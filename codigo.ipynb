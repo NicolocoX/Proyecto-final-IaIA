{
 "cells": [
  {
   "cell_type": "code",
   "execution_count": 1,
   "id": "3cc82c80",
   "metadata": {},
   "outputs": [],
   "source": [
    "import pandas as pd"
   ]
  },
  {
   "cell_type": "code",
   "execution_count": 2,
   "id": "4ce21d1a",
   "metadata": {},
   "outputs": [
    {
     "data": {
      "text/plain": [
       "Index(['Timestamp', 'Age', 'Primary streaming service', 'Hours per day',\n",
       "       'While working', 'Instrumentalist', 'Composer', 'Fav genre',\n",
       "       'Exploratory', 'Foreign languages', 'BPM', 'Frequency [Classical]',\n",
       "       'Frequency [Country]', 'Frequency [EDM]', 'Frequency [Folk]',\n",
       "       'Frequency [Gospel]', 'Frequency [Hip hop]', 'Frequency [Jazz]',\n",
       "       'Frequency [K pop]', 'Frequency [Latin]', 'Frequency [Lofi]',\n",
       "       'Frequency [Metal]', 'Frequency [Pop]', 'Frequency [R&B]',\n",
       "       'Frequency [Rap]', 'Frequency [Rock]', 'Frequency [Video game music]',\n",
       "       'Anxiety', 'Depression', 'Insomnia', 'OCD', 'Music effects',\n",
       "       'Permissions'],\n",
       "      dtype='object')"
      ]
     },
     "execution_count": 2,
     "metadata": {},
     "output_type": "execute_result"
    }
   ],
   "source": [
    "datos = pd.read_csv(\"mxmh_survey_results.csv\")\n",
    "datos.columns"
   ]
  },
  {
   "cell_type": "code",
   "execution_count": 3,
   "id": "82783ade",
   "metadata": {},
   "outputs": [
    {
     "name": "stdout",
     "output_type": "stream",
     "text": [
      "<class 'pandas.core.frame.DataFrame'>\n",
      "RangeIndex: 736 entries, 0 to 735\n",
      "Data columns (total 33 columns):\n",
      " #   Column                        Non-Null Count  Dtype  \n",
      "---  ------                        --------------  -----  \n",
      " 0   Timestamp                     736 non-null    object \n",
      " 1   Age                           735 non-null    float64\n",
      " 2   Primary streaming service     735 non-null    object \n",
      " 3   Hours per day                 736 non-null    float64\n",
      " 4   While working                 733 non-null    object \n",
      " 5   Instrumentalist               732 non-null    object \n",
      " 6   Composer                      735 non-null    object \n",
      " 7   Fav genre                     736 non-null    object \n",
      " 8   Exploratory                   736 non-null    object \n",
      " 9   Foreign languages             732 non-null    object \n",
      " 10  BPM                           629 non-null    float64\n",
      " 11  Frequency [Classical]         736 non-null    object \n",
      " 12  Frequency [Country]           736 non-null    object \n",
      " 13  Frequency [EDM]               736 non-null    object \n",
      " 14  Frequency [Folk]              736 non-null    object \n",
      " 15  Frequency [Gospel]            736 non-null    object \n",
      " 16  Frequency [Hip hop]           736 non-null    object \n",
      " 17  Frequency [Jazz]              736 non-null    object \n",
      " 18  Frequency [K pop]             736 non-null    object \n",
      " 19  Frequency [Latin]             736 non-null    object \n",
      " 20  Frequency [Lofi]              736 non-null    object \n",
      " 21  Frequency [Metal]             736 non-null    object \n",
      " 22  Frequency [Pop]               736 non-null    object \n",
      " 23  Frequency [R&B]               736 non-null    object \n",
      " 24  Frequency [Rap]               736 non-null    object \n",
      " 25  Frequency [Rock]              736 non-null    object \n",
      " 26  Frequency [Video game music]  736 non-null    object \n",
      " 27  Anxiety                       736 non-null    float64\n",
      " 28  Depression                    736 non-null    float64\n",
      " 29  Insomnia                      736 non-null    float64\n",
      " 30  OCD                           736 non-null    float64\n",
      " 31  Music effects                 728 non-null    object \n",
      " 32  Permissions                   736 non-null    object \n",
      "dtypes: float64(7), object(26)\n",
      "memory usage: 189.9+ KB\n"
     ]
    }
   ],
   "source": [
    "datos.info()"
   ]
  },
  {
   "cell_type": "markdown",
   "id": "99960199",
   "metadata": {},
   "source": [
    "\n",
    "'Never' 'Nunca' = 0\n",
    "'Rarely' 'Rara vez' = 1\n",
    "'Sometimes' 'A veces' = 2\n",
    "'Very frequently' 'Muy frecuentemente' = 3\n",
    "\n",
    "\n",
    "'Rara vez' 'Nunca' 'Muy frecuentemente' 'A veces'"
   ]
  },
  {
   "cell_type": "code",
   "execution_count": 4,
   "id": "7085e7d1",
   "metadata": {},
   "outputs": [
    {
     "name": "stdout",
     "output_type": "stream",
     "text": [
      "Frequency [Classical]: ['Rarely' 'Sometimes' 'Never' 'Very frequently']\n",
      "Frequency [Country]: ['Never' 'Sometimes' 'Very frequently' 'Rarely']\n",
      "Frequency [EDM]: ['Rarely' 'Never' 'Very frequently' 'Sometimes']\n",
      "Frequency [Folk]: ['Never' 'Rarely' 'Sometimes' 'Very frequently']\n",
      "Frequency [Gospel]: ['Never' 'Sometimes' 'Rarely' 'Very frequently']\n",
      "Frequency [Hip hop]: ['Sometimes' 'Rarely' 'Never' 'Very frequently']\n",
      "Frequency [Jazz]: ['Never' 'Very frequently' 'Rarely' 'Sometimes']\n",
      "Frequency [K pop]: ['Very frequently' 'Rarely' 'Sometimes' 'Never']\n",
      "Frequency [Latin]: ['Very frequently' 'Sometimes' 'Never' 'Rarely']\n",
      "Frequency [Lofi]: ['Rarely' 'Sometimes' 'Very frequently' 'Never']\n",
      "Frequency [Metal]: ['Never' 'Sometimes' 'Rarely' 'Very frequently']\n",
      "Frequency [Pop]: ['Very frequently' 'Sometimes' 'Rarely' 'Never']\n",
      "Frequency [R&B]: ['Sometimes' 'Never' 'Very frequently' 'Rarely']\n",
      "Frequency [Rap]: ['Very frequently' 'Rarely' 'Never' 'Sometimes']\n",
      "Frequency [Rock]: ['Never' 'Very frequently' 'Rarely' 'Sometimes']\n",
      "Frequency [Video game music]: ['Sometimes' 'Rarely' 'Very frequently' 'Never']\n"
     ]
    }
   ],
   "source": [
    "datos[\"Frequency [Classical]\"].unique()\n",
    "columnas_frecuencias = [\n",
    "    \"Frequency [Classical]\", \"Frequency [Country]\", \"Frequency [EDM]\", \"Frequency [Folk]\",\n",
    "    \"Frequency [Gospel]\", \"Frequency [Hip hop]\", \"Frequency [Jazz]\", \"Frequency [K pop]\",\n",
    "    \"Frequency [Latin]\", \"Frequency [Lofi]\", \"Frequency [Metal]\", \"Frequency [Pop]\",\n",
    "    \"Frequency [R&B]\", \"Frequency [Rap]\", \"Frequency [Rock]\", \"Frequency [Video game music]\"\n",
    "]\n",
    "\n",
    "for columna in columnas_frecuencias :\n",
    "    print(f\"{columna}: {datos[columna].unique()}\")"
   ]
  },
  {
   "cell_type": "code",
   "execution_count": 5,
   "id": "7372f4f9",
   "metadata": {},
   "outputs": [],
   "source": [
    "\n",
    "mapeo_frecuencia = {\n",
    "    'Never': 0,\n",
    "    'Rarely': 1,\n",
    "    'Sometimes': 2,\n",
    "    'Very frequently': 3\n",
    "}\n",
    "\n",
    "\n",
    "for columna in columnas_frecuencias:\n",
    "    datos[columna] = datos[columna].map(mapeo_frecuencia)"
   ]
  },
  {
   "cell_type": "code",
   "execution_count": 6,
   "id": "e63076f3",
   "metadata": {},
   "outputs": [
    {
     "name": "stdout",
     "output_type": "stream",
     "text": [
      "Frequency [Classical]: [1 2 0 3]\n",
      "Frequency [Country]: [0 2 3 1]\n",
      "Frequency [EDM]: [1 0 3 2]\n",
      "Frequency [Folk]: [0 1 2 3]\n",
      "Frequency [Gospel]: [0 2 1 3]\n",
      "Frequency [Hip hop]: [2 1 0 3]\n",
      "Frequency [Jazz]: [0 3 1 2]\n",
      "Frequency [K pop]: [3 1 2 0]\n",
      "Frequency [Latin]: [3 2 0 1]\n",
      "Frequency [Lofi]: [1 2 3 0]\n",
      "Frequency [Metal]: [0 2 1 3]\n",
      "Frequency [Pop]: [3 2 1 0]\n",
      "Frequency [R&B]: [2 0 3 1]\n",
      "Frequency [Rap]: [3 1 0 2]\n",
      "Frequency [Rock]: [0 3 1 2]\n",
      "Frequency [Video game music]: [2 1 3 0]\n"
     ]
    }
   ],
   "source": [
    "for columna in columnas_frecuencias:\n",
    "    print(f\"{columna}: {datos[columna].unique()}\")"
   ]
  },
  {
   "cell_type": "code",
   "execution_count": 7,
   "id": "15894cf6",
   "metadata": {},
   "outputs": [
    {
     "name": "stdout",
     "output_type": "stream",
     "text": [
      "<class 'pandas.core.frame.DataFrame'>\n",
      "RangeIndex: 736 entries, 0 to 735\n",
      "Data columns (total 33 columns):\n",
      " #   Column                        Non-Null Count  Dtype  \n",
      "---  ------                        --------------  -----  \n",
      " 0   Timestamp                     736 non-null    object \n",
      " 1   Age                           735 non-null    float64\n",
      " 2   Primary streaming service     735 non-null    object \n",
      " 3   Hours per day                 736 non-null    float64\n",
      " 4   While working                 733 non-null    object \n",
      " 5   Instrumentalist               732 non-null    object \n",
      " 6   Composer                      735 non-null    object \n",
      " 7   Fav genre                     736 non-null    object \n",
      " 8   Exploratory                   736 non-null    object \n",
      " 9   Foreign languages             732 non-null    object \n",
      " 10  BPM                           629 non-null    float64\n",
      " 11  Frequency [Classical]         736 non-null    int64  \n",
      " 12  Frequency [Country]           736 non-null    int64  \n",
      " 13  Frequency [EDM]               736 non-null    int64  \n",
      " 14  Frequency [Folk]              736 non-null    int64  \n",
      " 15  Frequency [Gospel]            736 non-null    int64  \n",
      " 16  Frequency [Hip hop]           736 non-null    int64  \n",
      " 17  Frequency [Jazz]              736 non-null    int64  \n",
      " 18  Frequency [K pop]             736 non-null    int64  \n",
      " 19  Frequency [Latin]             736 non-null    int64  \n",
      " 20  Frequency [Lofi]              736 non-null    int64  \n",
      " 21  Frequency [Metal]             736 non-null    int64  \n",
      " 22  Frequency [Pop]               736 non-null    int64  \n",
      " 23  Frequency [R&B]               736 non-null    int64  \n",
      " 24  Frequency [Rap]               736 non-null    int64  \n",
      " 25  Frequency [Rock]              736 non-null    int64  \n",
      " 26  Frequency [Video game music]  736 non-null    int64  \n",
      " 27  Anxiety                       736 non-null    float64\n",
      " 28  Depression                    736 non-null    float64\n",
      " 29  Insomnia                      736 non-null    float64\n",
      " 30  OCD                           736 non-null    float64\n",
      " 31  Music effects                 728 non-null    object \n",
      " 32  Permissions                   736 non-null    object \n",
      "dtypes: float64(7), int64(16), object(10)\n",
      "memory usage: 189.9+ KB\n"
     ]
    }
   ],
   "source": [
    "datos.info()\n"
   ]
  },
  {
   "cell_type": "code",
   "execution_count": 9,
   "id": "0c06de76",
   "metadata": {},
   "outputs": [
    {
     "name": "stdout",
     "output_type": "stream",
     "text": [
      "<class 'pandas.core.frame.DataFrame'>\n",
      "RangeIndex: 736 entries, 0 to 735\n",
      "Data columns (total 15 columns):\n",
      " #   Column                        Non-Null Count  Dtype\n",
      "---  ------                        --------------  -----\n",
      " 0   Frequency [Country]           736 non-null    int64\n",
      " 1   Frequency [EDM]               736 non-null    int64\n",
      " 2   Frequency [Folk]              736 non-null    int64\n",
      " 3   Frequency [Gospel]            736 non-null    int64\n",
      " 4   Frequency [Hip hop]           736 non-null    int64\n",
      " 5   Frequency [Jazz]              736 non-null    int64\n",
      " 6   Frequency [K pop]             736 non-null    int64\n",
      " 7   Frequency [Latin]             736 non-null    int64\n",
      " 8   Frequency [Lofi]              736 non-null    int64\n",
      " 9   Frequency [Metal]             736 non-null    int64\n",
      " 10  Frequency [Pop]               736 non-null    int64\n",
      " 11  Frequency [R&B]               736 non-null    int64\n",
      " 12  Frequency [Rap]               736 non-null    int64\n",
      " 13  Frequency [Rock]              736 non-null    int64\n",
      " 14  Frequency [Video game music]  736 non-null    int64\n",
      "dtypes: int64(15)\n",
      "memory usage: 86.4 KB\n"
     ]
    }
   ],
   "source": [
    "columnas_a_eliminar = ['Timestamp', 'Age', 'Primary streaming service', 'Hours per day',\n",
    "       'While working', 'Instrumentalist', 'Composer', 'Fav genre',\n",
    "       'Exploratory', 'Foreign languages', 'BPM', 'Frequency [Classical]',\n",
    "       'Anxiety', 'Depression', 'Insomnia', 'OCD', 'Music effects',\n",
    "       'Permissions']\n",
    "\n",
    "\n",
    "datos_musica = datos.drop(columns=columnas_a_eliminar)\n",
    "\n",
    "datos_musica.info()"
   ]
  }
 ],
 "metadata": {
  "kernelspec": {
   "display_name": "base",
   "language": "python",
   "name": "python3"
  },
  "language_info": {
   "codemirror_mode": {
    "name": "ipython",
    "version": 3
   },
   "file_extension": ".py",
   "mimetype": "text/x-python",
   "name": "python",
   "nbconvert_exporter": "python",
   "pygments_lexer": "ipython3",
   "version": "3.13.5"
  }
 },
 "nbformat": 4,
 "nbformat_minor": 5
}
