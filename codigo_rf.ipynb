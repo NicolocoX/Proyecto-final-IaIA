{
  "cells": [
    {
      "cell_type": "code",
      "execution_count": 24,
      "id": "3cc82c80",
      "metadata": {
        "id": "3cc82c80"
      },
      "outputs": [],
      "source": [
        "import pandas as pd\n",
        "from sklearn.decomposition import PCA\n",
        "from sklearn.ensemble import RandomForestRegressor\n",
        "from sklearn.preprocessing import StandardScaler\n",
        "from sklearn.model_selection import train_test_split, GridSearchCV\n",
        "from sklearn.pipeline import Pipeline\n",
        "from sklearn.metrics import r2_score, mean_squared_error\n"
      ]
    },
    {
      "cell_type": "code",
      "execution_count": 25,
      "id": "4ce21d1a",
      "metadata": {
        "id": "4ce21d1a",
        "outputId": "5068dd9b-8bc6-4c78-d609-8d67f49cca42",
        "colab": {
          "base_uri": "https://localhost:8080/"
        }
      },
      "outputs": [
        {
          "output_type": "execute_result",
          "data": {
            "text/plain": [
              "Index(['Timestamp', 'Age', 'Primary streaming service', 'Hours per day',\n",
              "       'While working', 'Instrumentalist', 'Composer', 'Fav genre',\n",
              "       'Exploratory', 'Foreign languages', 'BPM', 'Frequency [Classical]',\n",
              "       'Frequency [Country]', 'Frequency [EDM]', 'Frequency [Folk]',\n",
              "       'Frequency [Gospel]', 'Frequency [Hip hop]', 'Frequency [Jazz]',\n",
              "       'Frequency [K pop]', 'Frequency [Latin]', 'Frequency [Lofi]',\n",
              "       'Frequency [Metal]', 'Frequency [Pop]', 'Frequency [R&B]',\n",
              "       'Frequency [Rap]', 'Frequency [Rock]', 'Frequency [Video game music]',\n",
              "       'Anxiety', 'Depression', 'Insomnia', 'OCD', 'Music effects',\n",
              "       'Permissions'],\n",
              "      dtype='object')"
            ]
          },
          "metadata": {},
          "execution_count": 25
        }
      ],
      "source": [
        "datos = pd.read_csv(\"mxmh_survey_results.csv\")\n",
        "datos.columns"
      ]
    },
    {
      "cell_type": "code",
      "execution_count": 26,
      "id": "82783ade",
      "metadata": {
        "id": "82783ade",
        "outputId": "9d46df8b-f96b-4510-b919-64dd892962cc",
        "colab": {
          "base_uri": "https://localhost:8080/"
        }
      },
      "outputs": [
        {
          "output_type": "stream",
          "name": "stdout",
          "text": [
            "<class 'pandas.core.frame.DataFrame'>\n",
            "RangeIndex: 736 entries, 0 to 735\n",
            "Data columns (total 33 columns):\n",
            " #   Column                        Non-Null Count  Dtype  \n",
            "---  ------                        --------------  -----  \n",
            " 0   Timestamp                     736 non-null    object \n",
            " 1   Age                           735 non-null    float64\n",
            " 2   Primary streaming service     735 non-null    object \n",
            " 3   Hours per day                 736 non-null    float64\n",
            " 4   While working                 733 non-null    object \n",
            " 5   Instrumentalist               732 non-null    object \n",
            " 6   Composer                      735 non-null    object \n",
            " 7   Fav genre                     736 non-null    object \n",
            " 8   Exploratory                   736 non-null    object \n",
            " 9   Foreign languages             732 non-null    object \n",
            " 10  BPM                           629 non-null    float64\n",
            " 11  Frequency [Classical]         736 non-null    object \n",
            " 12  Frequency [Country]           736 non-null    object \n",
            " 13  Frequency [EDM]               736 non-null    object \n",
            " 14  Frequency [Folk]              736 non-null    object \n",
            " 15  Frequency [Gospel]            736 non-null    object \n",
            " 16  Frequency [Hip hop]           736 non-null    object \n",
            " 17  Frequency [Jazz]              736 non-null    object \n",
            " 18  Frequency [K pop]             736 non-null    object \n",
            " 19  Frequency [Latin]             736 non-null    object \n",
            " 20  Frequency [Lofi]              736 non-null    object \n",
            " 21  Frequency [Metal]             736 non-null    object \n",
            " 22  Frequency [Pop]               736 non-null    object \n",
            " 23  Frequency [R&B]               736 non-null    object \n",
            " 24  Frequency [Rap]               736 non-null    object \n",
            " 25  Frequency [Rock]              736 non-null    object \n",
            " 26  Frequency [Video game music]  736 non-null    object \n",
            " 27  Anxiety                       736 non-null    float64\n",
            " 28  Depression                    736 non-null    float64\n",
            " 29  Insomnia                      736 non-null    float64\n",
            " 30  OCD                           736 non-null    float64\n",
            " 31  Music effects                 728 non-null    object \n",
            " 32  Permissions                   736 non-null    object \n",
            "dtypes: float64(7), object(26)\n",
            "memory usage: 189.9+ KB\n"
          ]
        }
      ],
      "source": [
        "datos.info()"
      ]
    },
    {
      "cell_type": "markdown",
      "id": "1edfa4f2",
      "metadata": {
        "id": "1edfa4f2"
      },
      "source": [
        "Hours per day, se queda en los datos sin mayor cambio"
      ]
    },
    {
      "cell_type": "markdown",
      "id": "e6721b28",
      "metadata": {
        "id": "e6721b28"
      },
      "source": [
        "Se cambio While working de Yes o No a lago binario, 1 y 0"
      ]
    },
    {
      "cell_type": "code",
      "execution_count": 27,
      "id": "ad00d26d",
      "metadata": {
        "id": "ad00d26d"
      },
      "outputs": [],
      "source": [
        "datos['While working'] = datos['While working'].map({'Yes': 1, 'No': 0})"
      ]
    },
    {
      "cell_type": "markdown",
      "id": "47824c11",
      "metadata": {
        "id": "47824c11"
      },
      "source": [
        "Eliminar NAH de age"
      ]
    },
    {
      "cell_type": "code",
      "execution_count": 28,
      "id": "139d716c",
      "metadata": {
        "id": "139d716c"
      },
      "outputs": [],
      "source": [
        "datos = datos.dropna(subset=['Age'])"
      ]
    },
    {
      "cell_type": "markdown",
      "id": "99960199",
      "metadata": {
        "id": "99960199"
      },
      "source": [
        "\n",
        "'Never' 'Nunca' = 0\n",
        "'Rarely' 'Rara vez' = 1\n",
        "'Sometimes' 'A veces' = 2\n",
        "'Very frequently' 'Muy frecuentemente' = 3\n",
        "\n",
        "\n",
        "'Rara vez' 'Nunca' 'Muy frecuentemente' 'A veces'"
      ]
    },
    {
      "cell_type": "code",
      "execution_count": 29,
      "id": "7085e7d1",
      "metadata": {
        "id": "7085e7d1",
        "outputId": "d087787e-ced4-4594-bca5-cb417e73ffce",
        "colab": {
          "base_uri": "https://localhost:8080/"
        }
      },
      "outputs": [
        {
          "output_type": "stream",
          "name": "stdout",
          "text": [
            "Frequency [Classical]: ['Rarely' 'Sometimes' 'Never' 'Very frequently']\n",
            "Frequency [Country]: ['Never' 'Sometimes' 'Very frequently' 'Rarely']\n",
            "Frequency [EDM]: ['Rarely' 'Never' 'Very frequently' 'Sometimes']\n",
            "Frequency [Folk]: ['Never' 'Rarely' 'Sometimes' 'Very frequently']\n",
            "Frequency [Gospel]: ['Never' 'Sometimes' 'Rarely' 'Very frequently']\n",
            "Frequency [Hip hop]: ['Sometimes' 'Rarely' 'Never' 'Very frequently']\n",
            "Frequency [Jazz]: ['Never' 'Very frequently' 'Rarely' 'Sometimes']\n",
            "Frequency [K pop]: ['Very frequently' 'Rarely' 'Sometimes' 'Never']\n",
            "Frequency [Latin]: ['Very frequently' 'Sometimes' 'Never' 'Rarely']\n",
            "Frequency [Lofi]: ['Rarely' 'Sometimes' 'Very frequently' 'Never']\n",
            "Frequency [Metal]: ['Never' 'Sometimes' 'Rarely' 'Very frequently']\n",
            "Frequency [Pop]: ['Very frequently' 'Sometimes' 'Rarely' 'Never']\n",
            "Frequency [R&B]: ['Sometimes' 'Never' 'Very frequently' 'Rarely']\n",
            "Frequency [Rap]: ['Very frequently' 'Rarely' 'Never' 'Sometimes']\n",
            "Frequency [Rock]: ['Never' 'Very frequently' 'Rarely' 'Sometimes']\n",
            "Frequency [Video game music]: ['Sometimes' 'Rarely' 'Very frequently' 'Never']\n"
          ]
        }
      ],
      "source": [
        "datos[\"Frequency [Classical]\"].unique()\n",
        "columnas_frecuencias = [\n",
        "    \"Frequency [Classical]\", \"Frequency [Country]\", \"Frequency [EDM]\", \"Frequency [Folk]\",\n",
        "    \"Frequency [Gospel]\", \"Frequency [Hip hop]\", \"Frequency [Jazz]\", \"Frequency [K pop]\",\n",
        "    \"Frequency [Latin]\", \"Frequency [Lofi]\", \"Frequency [Metal]\", \"Frequency [Pop]\",\n",
        "    \"Frequency [R&B]\", \"Frequency [Rap]\", \"Frequency [Rock]\", \"Frequency [Video game music]\"\n",
        "]\n",
        "\n",
        "for columna in columnas_frecuencias :\n",
        "    print(f\"{columna}: {datos[columna].unique()}\")"
      ]
    },
    {
      "cell_type": "code",
      "execution_count": 30,
      "id": "7372f4f9",
      "metadata": {
        "id": "7372f4f9"
      },
      "outputs": [],
      "source": [
        "\n",
        "mapeo_frecuencia = {\n",
        "    'Never': 0,\n",
        "    'Rarely': 1,\n",
        "    'Sometimes': 2,\n",
        "    'Very frequently': 3\n",
        "}\n",
        "\n",
        "\n",
        "for columna in columnas_frecuencias:\n",
        "    datos[columna] = datos[columna].map(mapeo_frecuencia)"
      ]
    },
    {
      "cell_type": "code",
      "execution_count": 31,
      "id": "e63076f3",
      "metadata": {
        "id": "e63076f3",
        "outputId": "886fc470-9998-411c-da7e-dd3e7436e9fe",
        "colab": {
          "base_uri": "https://localhost:8080/"
        }
      },
      "outputs": [
        {
          "output_type": "stream",
          "name": "stdout",
          "text": [
            "Frequency [Classical]: [1 2 0 3]\n",
            "Frequency [Country]: [0 2 3 1]\n",
            "Frequency [EDM]: [1 0 3 2]\n",
            "Frequency [Folk]: [0 1 2 3]\n",
            "Frequency [Gospel]: [0 2 1 3]\n",
            "Frequency [Hip hop]: [2 1 0 3]\n",
            "Frequency [Jazz]: [0 3 1 2]\n",
            "Frequency [K pop]: [3 1 2 0]\n",
            "Frequency [Latin]: [3 2 0 1]\n",
            "Frequency [Lofi]: [1 2 3 0]\n",
            "Frequency [Metal]: [0 2 1 3]\n",
            "Frequency [Pop]: [3 2 1 0]\n",
            "Frequency [R&B]: [2 0 3 1]\n",
            "Frequency [Rap]: [3 1 0 2]\n",
            "Frequency [Rock]: [0 3 1 2]\n",
            "Frequency [Video game music]: [2 1 3 0]\n"
          ]
        }
      ],
      "source": [
        "for columna in columnas_frecuencias:\n",
        "    print(f\"{columna}: {datos[columna].unique()}\")"
      ]
    },
    {
      "cell_type": "code",
      "execution_count": 32,
      "id": "15894cf6",
      "metadata": {
        "id": "15894cf6",
        "outputId": "db6b3b3e-e44a-4d68-c50c-0556a9895c83",
        "colab": {
          "base_uri": "https://localhost:8080/"
        }
      },
      "outputs": [
        {
          "output_type": "stream",
          "name": "stdout",
          "text": [
            "<class 'pandas.core.frame.DataFrame'>\n",
            "Index: 735 entries, 0 to 735\n",
            "Data columns (total 33 columns):\n",
            " #   Column                        Non-Null Count  Dtype  \n",
            "---  ------                        --------------  -----  \n",
            " 0   Timestamp                     735 non-null    object \n",
            " 1   Age                           735 non-null    float64\n",
            " 2   Primary streaming service     734 non-null    object \n",
            " 3   Hours per day                 735 non-null    float64\n",
            " 4   While working                 732 non-null    float64\n",
            " 5   Instrumentalist               731 non-null    object \n",
            " 6   Composer                      734 non-null    object \n",
            " 7   Fav genre                     735 non-null    object \n",
            " 8   Exploratory                   735 non-null    object \n",
            " 9   Foreign languages             731 non-null    object \n",
            " 10  BPM                           629 non-null    float64\n",
            " 11  Frequency [Classical]         735 non-null    int64  \n",
            " 12  Frequency [Country]           735 non-null    int64  \n",
            " 13  Frequency [EDM]               735 non-null    int64  \n",
            " 14  Frequency [Folk]              735 non-null    int64  \n",
            " 15  Frequency [Gospel]            735 non-null    int64  \n",
            " 16  Frequency [Hip hop]           735 non-null    int64  \n",
            " 17  Frequency [Jazz]              735 non-null    int64  \n",
            " 18  Frequency [K pop]             735 non-null    int64  \n",
            " 19  Frequency [Latin]             735 non-null    int64  \n",
            " 20  Frequency [Lofi]              735 non-null    int64  \n",
            " 21  Frequency [Metal]             735 non-null    int64  \n",
            " 22  Frequency [Pop]               735 non-null    int64  \n",
            " 23  Frequency [R&B]               735 non-null    int64  \n",
            " 24  Frequency [Rap]               735 non-null    int64  \n",
            " 25  Frequency [Rock]              735 non-null    int64  \n",
            " 26  Frequency [Video game music]  735 non-null    int64  \n",
            " 27  Anxiety                       735 non-null    float64\n",
            " 28  Depression                    735 non-null    float64\n",
            " 29  Insomnia                      735 non-null    float64\n",
            " 30  OCD                           735 non-null    float64\n",
            " 31  Music effects                 727 non-null    object \n",
            " 32  Permissions                   735 non-null    object \n",
            "dtypes: float64(8), int64(16), object(9)\n",
            "memory usage: 195.2+ KB\n"
          ]
        }
      ],
      "source": [
        "datos.info()"
      ]
    },
    {
      "cell_type": "code",
      "execution_count": 33,
      "id": "0c06de76",
      "metadata": {
        "id": "0c06de76",
        "outputId": "d74b64ef-8d4b-46ec-a821-6bc5eaf12ac4",
        "colab": {
          "base_uri": "https://localhost:8080/"
        }
      },
      "outputs": [
        {
          "output_type": "stream",
          "name": "stdout",
          "text": [
            "<class 'pandas.core.frame.DataFrame'>\n",
            "Index: 735 entries, 0 to 735\n",
            "Data columns (total 22 columns):\n",
            " #   Column                        Non-Null Count  Dtype  \n",
            "---  ------                        --------------  -----  \n",
            " 0   Age                           735 non-null    float64\n",
            " 1   Hours per day                 735 non-null    float64\n",
            " 2   Frequency [Classical]         735 non-null    int64  \n",
            " 3   Frequency [Country]           735 non-null    int64  \n",
            " 4   Frequency [EDM]               735 non-null    int64  \n",
            " 5   Frequency [Folk]              735 non-null    int64  \n",
            " 6   Frequency [Gospel]            735 non-null    int64  \n",
            " 7   Frequency [Hip hop]           735 non-null    int64  \n",
            " 8   Frequency [Jazz]              735 non-null    int64  \n",
            " 9   Frequency [K pop]             735 non-null    int64  \n",
            " 10  Frequency [Latin]             735 non-null    int64  \n",
            " 11  Frequency [Lofi]              735 non-null    int64  \n",
            " 12  Frequency [Metal]             735 non-null    int64  \n",
            " 13  Frequency [Pop]               735 non-null    int64  \n",
            " 14  Frequency [R&B]               735 non-null    int64  \n",
            " 15  Frequency [Rap]               735 non-null    int64  \n",
            " 16  Frequency [Rock]              735 non-null    int64  \n",
            " 17  Frequency [Video game music]  735 non-null    int64  \n",
            " 18  Anxiety                       735 non-null    float64\n",
            " 19  Depression                    735 non-null    float64\n",
            " 20  Insomnia                      735 non-null    float64\n",
            " 21  OCD                           735 non-null    float64\n",
            "dtypes: float64(6), int64(16)\n",
            "memory usage: 132.1 KB\n"
          ]
        }
      ],
      "source": [
        "columnas_a_eliminar = [ 'Timestamp','Primary streaming service',\n",
        "       'While working', 'Instrumentalist', 'Composer', 'Fav genre',\n",
        "       'Exploratory', 'Foreign languages', 'BPM', 'Music effects',\n",
        "       'Permissions']\n",
        "\n",
        "\n",
        "datos_musica = datos.drop(columns=columnas_a_eliminar)\n",
        "\n",
        "datos_musica.info()"
      ]
    },
    {
      "cell_type": "code",
      "execution_count": 34,
      "id": "65e707eb",
      "metadata": {
        "id": "65e707eb",
        "outputId": "9eefebc2-6eff-4f13-ce9d-05c9cc6e4c4c",
        "colab": {
          "base_uri": "https://localhost:8080/"
        }
      },
      "outputs": [
        {
          "output_type": "execute_result",
          "data": {
            "text/plain": [
              "((735, 18), (735,), (735,), (735,), (735,))"
            ]
          },
          "metadata": {},
          "execution_count": 34
        }
      ],
      "source": [
        "X = datos_musica.drop(columns=[\"Anxiety\", \"Depression\", \"Insomnia\", \"OCD\"])\n",
        "yA = datos_musica[\"Anxiety\"]\n",
        "yD = datos_musica[\"Depression\"]\n",
        "yI = datos_musica[\"Insomnia\"]\n",
        "yO = datos_musica[\"OCD\"]\n",
        "\n",
        "X.shape, yA.shape, yD.shape, yI.shape, yO.shape\n"
      ]
    },
    {
      "cell_type": "code",
      "execution_count": 35,
      "id": "821431e5",
      "metadata": {
        "id": "821431e5"
      },
      "outputs": [],
      "source": [
        "X_train, X_test, y_train, y_test = train_test_split(X, yA, test_size=0.3, random_state=42)"
      ]
    },
    {
      "cell_type": "markdown",
      "id": "3ae9af71",
      "metadata": {
        "id": "3ae9af71"
      },
      "source": [
        "Entrenar"
      ]
    },
    {
      "cell_type": "code",
      "execution_count": 36,
      "id": "9519b2a7",
      "metadata": {
        "id": "9519b2a7",
        "outputId": "b56b65b7-c755-4068-95ec-b01f4c2b4baa",
        "colab": {
          "base_uri": "https://localhost:8080/",
          "height": 81
        }
      },
      "outputs": [
        {
          "output_type": "execute_result",
          "data": {
            "text/plain": [
              "RandomForestRegressor(max_depth=5, min_samples_leaf=10, random_state=42)"
            ],
            "text/html": [
              "<style>#sk-container-id-1 {\n",
              "  /* Definition of color scheme common for light and dark mode */\n",
              "  --sklearn-color-text: #000;\n",
              "  --sklearn-color-text-muted: #666;\n",
              "  --sklearn-color-line: gray;\n",
              "  /* Definition of color scheme for unfitted estimators */\n",
              "  --sklearn-color-unfitted-level-0: #fff5e6;\n",
              "  --sklearn-color-unfitted-level-1: #f6e4d2;\n",
              "  --sklearn-color-unfitted-level-2: #ffe0b3;\n",
              "  --sklearn-color-unfitted-level-3: chocolate;\n",
              "  /* Definition of color scheme for fitted estimators */\n",
              "  --sklearn-color-fitted-level-0: #f0f8ff;\n",
              "  --sklearn-color-fitted-level-1: #d4ebff;\n",
              "  --sklearn-color-fitted-level-2: #b3dbfd;\n",
              "  --sklearn-color-fitted-level-3: cornflowerblue;\n",
              "\n",
              "  /* Specific color for light theme */\n",
              "  --sklearn-color-text-on-default-background: var(--sg-text-color, var(--theme-code-foreground, var(--jp-content-font-color1, black)));\n",
              "  --sklearn-color-background: var(--sg-background-color, var(--theme-background, var(--jp-layout-color0, white)));\n",
              "  --sklearn-color-border-box: var(--sg-text-color, var(--theme-code-foreground, var(--jp-content-font-color1, black)));\n",
              "  --sklearn-color-icon: #696969;\n",
              "\n",
              "  @media (prefers-color-scheme: dark) {\n",
              "    /* Redefinition of color scheme for dark theme */\n",
              "    --sklearn-color-text-on-default-background: var(--sg-text-color, var(--theme-code-foreground, var(--jp-content-font-color1, white)));\n",
              "    --sklearn-color-background: var(--sg-background-color, var(--theme-background, var(--jp-layout-color0, #111)));\n",
              "    --sklearn-color-border-box: var(--sg-text-color, var(--theme-code-foreground, var(--jp-content-font-color1, white)));\n",
              "    --sklearn-color-icon: #878787;\n",
              "  }\n",
              "}\n",
              "\n",
              "#sk-container-id-1 {\n",
              "  color: var(--sklearn-color-text);\n",
              "}\n",
              "\n",
              "#sk-container-id-1 pre {\n",
              "  padding: 0;\n",
              "}\n",
              "\n",
              "#sk-container-id-1 input.sk-hidden--visually {\n",
              "  border: 0;\n",
              "  clip: rect(1px 1px 1px 1px);\n",
              "  clip: rect(1px, 1px, 1px, 1px);\n",
              "  height: 1px;\n",
              "  margin: -1px;\n",
              "  overflow: hidden;\n",
              "  padding: 0;\n",
              "  position: absolute;\n",
              "  width: 1px;\n",
              "}\n",
              "\n",
              "#sk-container-id-1 div.sk-dashed-wrapped {\n",
              "  border: 1px dashed var(--sklearn-color-line);\n",
              "  margin: 0 0.4em 0.5em 0.4em;\n",
              "  box-sizing: border-box;\n",
              "  padding-bottom: 0.4em;\n",
              "  background-color: var(--sklearn-color-background);\n",
              "}\n",
              "\n",
              "#sk-container-id-1 div.sk-container {\n",
              "  /* jupyter's `normalize.less` sets `[hidden] { display: none; }`\n",
              "     but bootstrap.min.css set `[hidden] { display: none !important; }`\n",
              "     so we also need the `!important` here to be able to override the\n",
              "     default hidden behavior on the sphinx rendered scikit-learn.org.\n",
              "     See: https://github.com/scikit-learn/scikit-learn/issues/21755 */\n",
              "  display: inline-block !important;\n",
              "  position: relative;\n",
              "}\n",
              "\n",
              "#sk-container-id-1 div.sk-text-repr-fallback {\n",
              "  display: none;\n",
              "}\n",
              "\n",
              "div.sk-parallel-item,\n",
              "div.sk-serial,\n",
              "div.sk-item {\n",
              "  /* draw centered vertical line to link estimators */\n",
              "  background-image: linear-gradient(var(--sklearn-color-text-on-default-background), var(--sklearn-color-text-on-default-background));\n",
              "  background-size: 2px 100%;\n",
              "  background-repeat: no-repeat;\n",
              "  background-position: center center;\n",
              "}\n",
              "\n",
              "/* Parallel-specific style estimator block */\n",
              "\n",
              "#sk-container-id-1 div.sk-parallel-item::after {\n",
              "  content: \"\";\n",
              "  width: 100%;\n",
              "  border-bottom: 2px solid var(--sklearn-color-text-on-default-background);\n",
              "  flex-grow: 1;\n",
              "}\n",
              "\n",
              "#sk-container-id-1 div.sk-parallel {\n",
              "  display: flex;\n",
              "  align-items: stretch;\n",
              "  justify-content: center;\n",
              "  background-color: var(--sklearn-color-background);\n",
              "  position: relative;\n",
              "}\n",
              "\n",
              "#sk-container-id-1 div.sk-parallel-item {\n",
              "  display: flex;\n",
              "  flex-direction: column;\n",
              "}\n",
              "\n",
              "#sk-container-id-1 div.sk-parallel-item:first-child::after {\n",
              "  align-self: flex-end;\n",
              "  width: 50%;\n",
              "}\n",
              "\n",
              "#sk-container-id-1 div.sk-parallel-item:last-child::after {\n",
              "  align-self: flex-start;\n",
              "  width: 50%;\n",
              "}\n",
              "\n",
              "#sk-container-id-1 div.sk-parallel-item:only-child::after {\n",
              "  width: 0;\n",
              "}\n",
              "\n",
              "/* Serial-specific style estimator block */\n",
              "\n",
              "#sk-container-id-1 div.sk-serial {\n",
              "  display: flex;\n",
              "  flex-direction: column;\n",
              "  align-items: center;\n",
              "  background-color: var(--sklearn-color-background);\n",
              "  padding-right: 1em;\n",
              "  padding-left: 1em;\n",
              "}\n",
              "\n",
              "\n",
              "/* Toggleable style: style used for estimator/Pipeline/ColumnTransformer box that is\n",
              "clickable and can be expanded/collapsed.\n",
              "- Pipeline and ColumnTransformer use this feature and define the default style\n",
              "- Estimators will overwrite some part of the style using the `sk-estimator` class\n",
              "*/\n",
              "\n",
              "/* Pipeline and ColumnTransformer style (default) */\n",
              "\n",
              "#sk-container-id-1 div.sk-toggleable {\n",
              "  /* Default theme specific background. It is overwritten whether we have a\n",
              "  specific estimator or a Pipeline/ColumnTransformer */\n",
              "  background-color: var(--sklearn-color-background);\n",
              "}\n",
              "\n",
              "/* Toggleable label */\n",
              "#sk-container-id-1 label.sk-toggleable__label {\n",
              "  cursor: pointer;\n",
              "  display: flex;\n",
              "  width: 100%;\n",
              "  margin-bottom: 0;\n",
              "  padding: 0.5em;\n",
              "  box-sizing: border-box;\n",
              "  text-align: center;\n",
              "  align-items: start;\n",
              "  justify-content: space-between;\n",
              "  gap: 0.5em;\n",
              "}\n",
              "\n",
              "#sk-container-id-1 label.sk-toggleable__label .caption {\n",
              "  font-size: 0.6rem;\n",
              "  font-weight: lighter;\n",
              "  color: var(--sklearn-color-text-muted);\n",
              "}\n",
              "\n",
              "#sk-container-id-1 label.sk-toggleable__label-arrow:before {\n",
              "  /* Arrow on the left of the label */\n",
              "  content: \"▸\";\n",
              "  float: left;\n",
              "  margin-right: 0.25em;\n",
              "  color: var(--sklearn-color-icon);\n",
              "}\n",
              "\n",
              "#sk-container-id-1 label.sk-toggleable__label-arrow:hover:before {\n",
              "  color: var(--sklearn-color-text);\n",
              "}\n",
              "\n",
              "/* Toggleable content - dropdown */\n",
              "\n",
              "#sk-container-id-1 div.sk-toggleable__content {\n",
              "  max-height: 0;\n",
              "  max-width: 0;\n",
              "  overflow: hidden;\n",
              "  text-align: left;\n",
              "  /* unfitted */\n",
              "  background-color: var(--sklearn-color-unfitted-level-0);\n",
              "}\n",
              "\n",
              "#sk-container-id-1 div.sk-toggleable__content.fitted {\n",
              "  /* fitted */\n",
              "  background-color: var(--sklearn-color-fitted-level-0);\n",
              "}\n",
              "\n",
              "#sk-container-id-1 div.sk-toggleable__content pre {\n",
              "  margin: 0.2em;\n",
              "  border-radius: 0.25em;\n",
              "  color: var(--sklearn-color-text);\n",
              "  /* unfitted */\n",
              "  background-color: var(--sklearn-color-unfitted-level-0);\n",
              "}\n",
              "\n",
              "#sk-container-id-1 div.sk-toggleable__content.fitted pre {\n",
              "  /* unfitted */\n",
              "  background-color: var(--sklearn-color-fitted-level-0);\n",
              "}\n",
              "\n",
              "#sk-container-id-1 input.sk-toggleable__control:checked~div.sk-toggleable__content {\n",
              "  /* Expand drop-down */\n",
              "  max-height: 200px;\n",
              "  max-width: 100%;\n",
              "  overflow: auto;\n",
              "}\n",
              "\n",
              "#sk-container-id-1 input.sk-toggleable__control:checked~label.sk-toggleable__label-arrow:before {\n",
              "  content: \"▾\";\n",
              "}\n",
              "\n",
              "/* Pipeline/ColumnTransformer-specific style */\n",
              "\n",
              "#sk-container-id-1 div.sk-label input.sk-toggleable__control:checked~label.sk-toggleable__label {\n",
              "  color: var(--sklearn-color-text);\n",
              "  background-color: var(--sklearn-color-unfitted-level-2);\n",
              "}\n",
              "\n",
              "#sk-container-id-1 div.sk-label.fitted input.sk-toggleable__control:checked~label.sk-toggleable__label {\n",
              "  background-color: var(--sklearn-color-fitted-level-2);\n",
              "}\n",
              "\n",
              "/* Estimator-specific style */\n",
              "\n",
              "/* Colorize estimator box */\n",
              "#sk-container-id-1 div.sk-estimator input.sk-toggleable__control:checked~label.sk-toggleable__label {\n",
              "  /* unfitted */\n",
              "  background-color: var(--sklearn-color-unfitted-level-2);\n",
              "}\n",
              "\n",
              "#sk-container-id-1 div.sk-estimator.fitted input.sk-toggleable__control:checked~label.sk-toggleable__label {\n",
              "  /* fitted */\n",
              "  background-color: var(--sklearn-color-fitted-level-2);\n",
              "}\n",
              "\n",
              "#sk-container-id-1 div.sk-label label.sk-toggleable__label,\n",
              "#sk-container-id-1 div.sk-label label {\n",
              "  /* The background is the default theme color */\n",
              "  color: var(--sklearn-color-text-on-default-background);\n",
              "}\n",
              "\n",
              "/* On hover, darken the color of the background */\n",
              "#sk-container-id-1 div.sk-label:hover label.sk-toggleable__label {\n",
              "  color: var(--sklearn-color-text);\n",
              "  background-color: var(--sklearn-color-unfitted-level-2);\n",
              "}\n",
              "\n",
              "/* Label box, darken color on hover, fitted */\n",
              "#sk-container-id-1 div.sk-label.fitted:hover label.sk-toggleable__label.fitted {\n",
              "  color: var(--sklearn-color-text);\n",
              "  background-color: var(--sklearn-color-fitted-level-2);\n",
              "}\n",
              "\n",
              "/* Estimator label */\n",
              "\n",
              "#sk-container-id-1 div.sk-label label {\n",
              "  font-family: monospace;\n",
              "  font-weight: bold;\n",
              "  display: inline-block;\n",
              "  line-height: 1.2em;\n",
              "}\n",
              "\n",
              "#sk-container-id-1 div.sk-label-container {\n",
              "  text-align: center;\n",
              "}\n",
              "\n",
              "/* Estimator-specific */\n",
              "#sk-container-id-1 div.sk-estimator {\n",
              "  font-family: monospace;\n",
              "  border: 1px dotted var(--sklearn-color-border-box);\n",
              "  border-radius: 0.25em;\n",
              "  box-sizing: border-box;\n",
              "  margin-bottom: 0.5em;\n",
              "  /* unfitted */\n",
              "  background-color: var(--sklearn-color-unfitted-level-0);\n",
              "}\n",
              "\n",
              "#sk-container-id-1 div.sk-estimator.fitted {\n",
              "  /* fitted */\n",
              "  background-color: var(--sklearn-color-fitted-level-0);\n",
              "}\n",
              "\n",
              "/* on hover */\n",
              "#sk-container-id-1 div.sk-estimator:hover {\n",
              "  /* unfitted */\n",
              "  background-color: var(--sklearn-color-unfitted-level-2);\n",
              "}\n",
              "\n",
              "#sk-container-id-1 div.sk-estimator.fitted:hover {\n",
              "  /* fitted */\n",
              "  background-color: var(--sklearn-color-fitted-level-2);\n",
              "}\n",
              "\n",
              "/* Specification for estimator info (e.g. \"i\" and \"?\") */\n",
              "\n",
              "/* Common style for \"i\" and \"?\" */\n",
              "\n",
              ".sk-estimator-doc-link,\n",
              "a:link.sk-estimator-doc-link,\n",
              "a:visited.sk-estimator-doc-link {\n",
              "  float: right;\n",
              "  font-size: smaller;\n",
              "  line-height: 1em;\n",
              "  font-family: monospace;\n",
              "  background-color: var(--sklearn-color-background);\n",
              "  border-radius: 1em;\n",
              "  height: 1em;\n",
              "  width: 1em;\n",
              "  text-decoration: none !important;\n",
              "  margin-left: 0.5em;\n",
              "  text-align: center;\n",
              "  /* unfitted */\n",
              "  border: var(--sklearn-color-unfitted-level-1) 1pt solid;\n",
              "  color: var(--sklearn-color-unfitted-level-1);\n",
              "}\n",
              "\n",
              ".sk-estimator-doc-link.fitted,\n",
              "a:link.sk-estimator-doc-link.fitted,\n",
              "a:visited.sk-estimator-doc-link.fitted {\n",
              "  /* fitted */\n",
              "  border: var(--sklearn-color-fitted-level-1) 1pt solid;\n",
              "  color: var(--sklearn-color-fitted-level-1);\n",
              "}\n",
              "\n",
              "/* On hover */\n",
              "div.sk-estimator:hover .sk-estimator-doc-link:hover,\n",
              ".sk-estimator-doc-link:hover,\n",
              "div.sk-label-container:hover .sk-estimator-doc-link:hover,\n",
              ".sk-estimator-doc-link:hover {\n",
              "  /* unfitted */\n",
              "  background-color: var(--sklearn-color-unfitted-level-3);\n",
              "  color: var(--sklearn-color-background);\n",
              "  text-decoration: none;\n",
              "}\n",
              "\n",
              "div.sk-estimator.fitted:hover .sk-estimator-doc-link.fitted:hover,\n",
              ".sk-estimator-doc-link.fitted:hover,\n",
              "div.sk-label-container:hover .sk-estimator-doc-link.fitted:hover,\n",
              ".sk-estimator-doc-link.fitted:hover {\n",
              "  /* fitted */\n",
              "  background-color: var(--sklearn-color-fitted-level-3);\n",
              "  color: var(--sklearn-color-background);\n",
              "  text-decoration: none;\n",
              "}\n",
              "\n",
              "/* Span, style for the box shown on hovering the info icon */\n",
              ".sk-estimator-doc-link span {\n",
              "  display: none;\n",
              "  z-index: 9999;\n",
              "  position: relative;\n",
              "  font-weight: normal;\n",
              "  right: .2ex;\n",
              "  padding: .5ex;\n",
              "  margin: .5ex;\n",
              "  width: min-content;\n",
              "  min-width: 20ex;\n",
              "  max-width: 50ex;\n",
              "  color: var(--sklearn-color-text);\n",
              "  box-shadow: 2pt 2pt 4pt #999;\n",
              "  /* unfitted */\n",
              "  background: var(--sklearn-color-unfitted-level-0);\n",
              "  border: .5pt solid var(--sklearn-color-unfitted-level-3);\n",
              "}\n",
              "\n",
              ".sk-estimator-doc-link.fitted span {\n",
              "  /* fitted */\n",
              "  background: var(--sklearn-color-fitted-level-0);\n",
              "  border: var(--sklearn-color-fitted-level-3);\n",
              "}\n",
              "\n",
              ".sk-estimator-doc-link:hover span {\n",
              "  display: block;\n",
              "}\n",
              "\n",
              "/* \"?\"-specific style due to the `<a>` HTML tag */\n",
              "\n",
              "#sk-container-id-1 a.estimator_doc_link {\n",
              "  float: right;\n",
              "  font-size: 1rem;\n",
              "  line-height: 1em;\n",
              "  font-family: monospace;\n",
              "  background-color: var(--sklearn-color-background);\n",
              "  border-radius: 1rem;\n",
              "  height: 1rem;\n",
              "  width: 1rem;\n",
              "  text-decoration: none;\n",
              "  /* unfitted */\n",
              "  color: var(--sklearn-color-unfitted-level-1);\n",
              "  border: var(--sklearn-color-unfitted-level-1) 1pt solid;\n",
              "}\n",
              "\n",
              "#sk-container-id-1 a.estimator_doc_link.fitted {\n",
              "  /* fitted */\n",
              "  border: var(--sklearn-color-fitted-level-1) 1pt solid;\n",
              "  color: var(--sklearn-color-fitted-level-1);\n",
              "}\n",
              "\n",
              "/* On hover */\n",
              "#sk-container-id-1 a.estimator_doc_link:hover {\n",
              "  /* unfitted */\n",
              "  background-color: var(--sklearn-color-unfitted-level-3);\n",
              "  color: var(--sklearn-color-background);\n",
              "  text-decoration: none;\n",
              "}\n",
              "\n",
              "#sk-container-id-1 a.estimator_doc_link.fitted:hover {\n",
              "  /* fitted */\n",
              "  background-color: var(--sklearn-color-fitted-level-3);\n",
              "}\n",
              "</style><div id=\"sk-container-id-1\" class=\"sk-top-container\"><div class=\"sk-text-repr-fallback\"><pre>RandomForestRegressor(max_depth=5, min_samples_leaf=10, random_state=42)</pre><b>In a Jupyter environment, please rerun this cell to show the HTML representation or trust the notebook. <br />On GitHub, the HTML representation is unable to render, please try loading this page with nbviewer.org.</b></div><div class=\"sk-container\" hidden><div class=\"sk-item\"><div class=\"sk-estimator fitted sk-toggleable\"><input class=\"sk-toggleable__control sk-hidden--visually\" id=\"sk-estimator-id-1\" type=\"checkbox\" checked><label for=\"sk-estimator-id-1\" class=\"sk-toggleable__label fitted sk-toggleable__label-arrow\"><div><div>RandomForestRegressor</div></div><div><a class=\"sk-estimator-doc-link fitted\" rel=\"noreferrer\" target=\"_blank\" href=\"https://scikit-learn.org/1.6/modules/generated/sklearn.ensemble.RandomForestRegressor.html\">?<span>Documentation for RandomForestRegressor</span></a><span class=\"sk-estimator-doc-link fitted\">i<span>Fitted</span></span></div></label><div class=\"sk-toggleable__content fitted\"><pre>RandomForestRegressor(max_depth=5, min_samples_leaf=10, random_state=42)</pre></div> </div></div></div></div>"
            ]
          },
          "metadata": {},
          "execution_count": 36
        }
      ],
      "source": [
        "rf = RandomForestRegressor(\n",
        "    n_estimators=100,\n",
        "    max_depth=5,\n",
        "    min_samples_leaf=10,\n",
        "    random_state=42\n",
        ")\n",
        "\n",
        "rf.fit(X_train, y_train)\n"
      ]
    },
    {
      "cell_type": "markdown",
      "id": "a4ea82a5",
      "metadata": {
        "id": "a4ea82a5"
      },
      "source": [
        "evaluacion"
      ]
    },
    {
      "cell_type": "code",
      "execution_count": 37,
      "id": "2c8b352b",
      "metadata": {
        "id": "2c8b352b"
      },
      "outputs": [],
      "source": [
        "y_pred_train = rf.predict(X_train)\n",
        "y_pred_test = rf.predict(X_test)"
      ]
    },
    {
      "cell_type": "code",
      "execution_count": 38,
      "id": "857bedbb",
      "metadata": {
        "id": "857bedbb",
        "outputId": "9e49f8b7-ccc1-48bc-e47e-ceaea8f02362",
        "colab": {
          "base_uri": "https://localhost:8080/"
        }
      },
      "outputs": [
        {
          "output_type": "stream",
          "name": "stdout",
          "text": [
            "entrenamiento R**2: 0.24064381101420385\n",
            "Test R**2: 0.026615757293565134\n"
          ]
        }
      ],
      "source": [
        "\n",
        "print(\"entrenamiento R**2:\", r2_score(y_train, y_pred_train))\n",
        "print(\"Test R**2:\", r2_score(y_test, y_pred_test))\n"
      ]
    },
    {
      "cell_type": "markdown",
      "id": "d727dc01",
      "metadata": {
        "id": "d727dc01"
      },
      "source": [
        "Nuevamente el modelo no predice nada importante a menos que se tenga a si mismo como vecino, el modelo de Knn no se ajusta"
      ]
    },
    {
      "cell_type": "code",
      "source": [
        "pipeline = Pipeline([\n",
        "    ('scaler', StandardScaler()),\n",
        "    ('rf', RandomForestRegressor(random_state=42))\n",
        "])\n",
        "\n",
        "\n",
        "param_grid = {\n",
        "    'rf__n_estimators': [50, 100, 200],\n",
        "    'rf__max_depth': [None, 5, 10, 20],\n",
        "    'rf__min_samples_split': [2, 5],\n",
        "    'rf__min_samples_leaf': [1, 2],\n",
        "}\n",
        "\n",
        "\n",
        "grid_search = GridSearchCV(pipeline, param_grid, cv=5, scoring='r2', verbose=1, n_jobs=-1)\n",
        "grid_search.fit(X_train, y_train)\n",
        "print(\"Mejor R² (CV):\", grid_search.best_score_)\n",
        "print(\"Mejores parámetros:\", grid_search.best_params_)"
      ],
      "metadata": {
        "colab": {
          "base_uri": "https://localhost:8080/"
        },
        "id": "q8YiRV8REhFl",
        "outputId": "e2cbd1c8-d16c-4ece-8338-3687d076214a"
      },
      "id": "q8YiRV8REhFl",
      "execution_count": 41,
      "outputs": [
        {
          "output_type": "stream",
          "name": "stdout",
          "text": [
            "Fitting 5 folds for each of 48 candidates, totalling 240 fits\n",
            "Mejor R² (CV): 0.023986114212614918\n",
            "Mejores parámetros: {'rf__max_depth': 5, 'rf__min_samples_leaf': 2, 'rf__min_samples_split': 2, 'rf__n_estimators': 200}\n"
          ]
        }
      ]
    },
    {
      "cell_type": "code",
      "source": [
        "rf = RandomForestRegressor(\n",
        "    n_estimators=200,\n",
        "    max_depth=5,\n",
        "    min_samples_leaf=2,\n",
        "    random_state=42\n",
        ")\n",
        "\n",
        "rf.fit(X_train, y_train)\n",
        "y_pred_train = rf.predict(X_train)\n",
        "y_pred_test = rf.predict(X_test)\n",
        "\n",
        "print(\"entrenamiento R**2:\", r2_score(y_train, y_pred_train))\n",
        "print(\"Test R**2:\", r2_score(y_test, y_pred_test))\n"
      ],
      "metadata": {
        "colab": {
          "base_uri": "https://localhost:8080/"
        },
        "id": "oFpXMVnmHnCd",
        "outputId": "7ffa813c-9de7-49eb-e2d5-d9a7f722e6cb"
      },
      "id": "oFpXMVnmHnCd",
      "execution_count": 42,
      "outputs": [
        {
          "output_type": "stream",
          "name": "stdout",
          "text": [
            "entrenamiento R**2: 0.3332654487783724\n",
            "Test R**2: 0.0047187250940637915\n"
          ]
        }
      ]
    },
    {
      "cell_type": "markdown",
      "source": [
        "No se puede ver una mejora significativa"
      ],
      "metadata": {
        "id": "t_l2_eqhH6H_"
      },
      "id": "t_l2_eqhH6H_"
    }
  ],
  "metadata": {
    "kernelspec": {
      "display_name": "base",
      "language": "python",
      "name": "python3"
    },
    "language_info": {
      "codemirror_mode": {
        "name": "ipython",
        "version": 3
      },
      "file_extension": ".py",
      "mimetype": "text/x-python",
      "name": "python",
      "nbconvert_exporter": "python",
      "pygments_lexer": "ipython3",
      "version": "3.13.5"
    },
    "colab": {
      "provenance": []
    }
  },
  "nbformat": 4,
  "nbformat_minor": 5
}